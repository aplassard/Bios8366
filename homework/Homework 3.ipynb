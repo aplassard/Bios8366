{
 "cells": [
  {
   "cell_type": "markdown",
   "metadata": {},
   "source": [
    "Answer all questions and submit them either as an IPython notebook, LaTeX document, or Markdown document. Provide full answers for each question, including interpretation of the results. Each question is worth 25 points.\n",
    "\n",
    "This homework is due on Monday, November 30, 2015."
   ]
  },
  {
   "cell_type": "markdown",
   "metadata": {},
   "source": [
    "## Question 1\n",
    "\n",
    "The `titanic.xls` spreadsheet in the `data` directory contains data regarding the passengers on the Titanic when it sank in 1912. A recent [Kaggle competition](http://www.kaggle.com/c/titanic-gettingStarted) was based on predicting survival for passengers based on the attributes in the passenger list. \n",
    "\n",
    "Use scikit-learn to build both a support vector classifier and a logistic regression model to predict survival on the Titanic. Use cross-validation to assess your models, and try to tune them to improve performance.\n",
    "\n",
    "Discuss the benefits and drawbacks of both approaches for application to such problems."
   ]
  },
  {
   "cell_type": "code",
   "execution_count": null,
   "metadata": {
    "collapsed": false
   },
   "outputs": [],
   "source": [
    "# Write your work here"
   ]
  },
  {
   "cell_type": "markdown",
   "metadata": {},
   "source": [
    "## Question 2\n",
    "\n",
    "The data in `prostate.data.txt` come from a study by Stamey et al. (1989), which examined the correlation between the level of prostate-specific antigen (`lpsa`) and a number of clinical measures in men who were about to receive a radical prostatectomy. The variables are log cancer volume (`lcavol`), log prostate weight (`lweight`), age, log of the amount of benign prostatic hyperplasia (`lbph`), seminal vesicle invasion (`svi`), log of capsular penetration (`lcp`), Gleason score (`gleason`), and percent of Gleason scores 4 or 5 (`pgg45`). \n",
    "\n",
    "1. Select (your choice) five competing 3-variable linear regression models, and compare them using AIC, five-fold and ten-fold cross-validation. Discuss the results.\n",
    "\n",
    "2. An alternative method for model assessment is to fit the models on a set of bootstrap samples, and then keep track of how well it predicts the original training set. If $\\hat{f}^b(x_i)$ is the predicted value at $x_i$, from the model fitted to the bth bootstrap dataset, such an estimate is:\n",
    "$$\\frac{1}{B} \\frac{1}{N} \\sum_{b=1}^B \\sum_{i=1}^N L(y_i,\\hat{f}^b(x_i)) $$\n",
    "However, because the bootstrap samples tend to contain many observations in common among the set of bootstrap samples, this estimate will tend to underestimate the true error rate. The so-called .632 estimator aleviates this bias by returning a weighted average of the training error (average loss over the training sample) and the leave-one-out (LOO) bootstrap error:\n",
    "$$\\hat{err}^{(.632)} = 0.368 \\, \\bar{err} + 0.632 \\, \\hat{err}^{(1)}$$\n",
    "where:\n",
    "$$\\bar{err} = \\frac{1}{N}\\sum_{i=1}^N L(y_i, \\hat{f}(x_i)) $$\n",
    "Repeat the assesment from part (1) using the .632 estimator, and compare the result to the other approaches."
   ]
  },
  {
   "cell_type": "code",
   "execution_count": null,
   "metadata": {
    "collapsed": false
   },
   "outputs": [],
   "source": [
    "# Load the data\n",
    "%matplotlib inline\n",
    "import matplotlib.pyplot as plt\n",
    "import pandas as pd\n",
    "import numpy as np\n",
    "mat = pd.read_csv('../data/prostate.data.txt',sep='\\t')\n",
    "X = mat.copy()\n",
    "variables = ['lcavol','lweight','lbph','svi','lcp','gleason','pgg45']\n",
    "y = X.pop('lpsa')\n",
    "X = {x:X.pop(x) for x in variables}\n",
    "X = pd.DataFrame(X)"
   ]
  },
  {
   "cell_type": "code",
   "execution_count": null,
   "metadata": {
    "collapsed": false
   },
   "outputs": [],
   "source": [
    "# Lets look at AIC\n",
    "aic = lambda g: g.nobs * np.log((g.resid**2).sum()/g.nobs) + 2*len(g.beta)\n",
    "\n",
    "models = [\n",
    "    [1,1,0,1,0,0,0],\n",
    "    [1,0,1,0,0,0,1],\n",
    "    [0,1,0,0,1,1,0],\n",
    "    [0,0,0,0,1,1,1],\n",
    "    [0,1,0,1,0,1,0],\n",
    "]\n",
    "models = np.array(models)>0\n",
    "aics = []\n",
    "for i in range(models.shape[0]):\n",
    "    X_pred = X[X.columns[models[i,:]]]\n",
    "    g = pd.ols(y=y, x=X_pred)\n",
    "    aics.append(aic(g))\n",
    "print(aics)"
   ]
  },
  {
   "cell_type": "markdown",
   "metadata": {},
   "source": [
    "This shows that the second model is the best"
   ]
  },
  {
   "cell_type": "code",
   "execution_count": null,
   "metadata": {
    "collapsed": false
   },
   "outputs": [],
   "source": [
    "from sklearn import cross_validation\n",
    "from sklearn import linear_model\n",
    "from sklearn import metrics\n",
    "# Switching to scikit-learn since that's more comfortable for me\n",
    "\n",
    "X = np.array(X)\n",
    "y = np.array(y)\n",
    "\n",
    "n_folds = 5\n",
    "kfold = cross_validation.KFold(X.shape[0],n_folds=n_folds,shuffle=True)\n",
    "scores = np.zeros([n_folds,models.shape[0]])\n",
    "n = 0\n",
    "for train,test in kfold:\n",
    "    for i in range(models.shape[0]):\n",
    "        X_train = X[train,:]\n",
    "        X_train = X_train[:,models[i,:]]\n",
    "        X_test = X[test,:]\n",
    "        X_test = X_test[:,models[i,:]]\n",
    "        y_train = y[train]\n",
    "        y_test = y[test]\n",
    "        model = linear_model.LinearRegression()\n",
    "        model.fit(X_train,y_train)\n",
    "        y_hat = model.predict(X_test)\n",
    "        scores[n,i] = metrics.mean_squared_error(y_hat,y_test)\n",
    "    n += 1\n",
    "plt.xkcd()\n",
    "plt.boxplot(scores)\n",
    "plt.ylabel('Mean Squared Error')\n",
    "plt.xlabel('Model')\n",
    "plt.title('5 Fold Cross-Validation')"
   ]
  },
  {
   "cell_type": "code",
   "execution_count": null,
   "metadata": {
    "collapsed": false
   },
   "outputs": [],
   "source": [
    "from sklearn import cross_validation\n",
    "from sklearn import linear_model\n",
    "from sklearn import metrics\n",
    "# Switching to scikit-learn since that's more comfortable for me\n",
    "\n",
    "X = np.array(X)\n",
    "y = np.array(y)\n",
    "\n",
    "n_folds = 10\n",
    "kfold = cross_validation.KFold(X.shape[0],n_folds=n_folds,shuffle=True)\n",
    "scores = np.zeros([n_folds,models.shape[0]])\n",
    "n = 0\n",
    "for train,test in kfold:\n",
    "    for i in range(models.shape[0]):\n",
    "        X_train = X[train,:]\n",
    "        X_train = X_train[:,models[i,:]]\n",
    "        X_test = X[test,:]\n",
    "        X_test = X_test[:,models[i,:]]\n",
    "        y_train = y[train]\n",
    "        y_test = y[test]\n",
    "        model = linear_model.LinearRegression()\n",
    "        model.fit(X_train,y_train)\n",
    "        y_hat = model.predict(X_test)\n",
    "        scores[n,i] = metrics.mean_squared_error(y_hat,y_test)\n",
    "    n += 1\n",
    "plt.xkcd()\n",
    "plt.boxplot(scores)\n",
    "plt.ylabel('Mean Squared Error')\n",
    "plt.xlabel('Model')\n",
    "plt.title('10 Fold Cross-Validation')"
   ]
  },
  {
   "cell_type": "code",
   "execution_count": null,
   "metadata": {
    "collapsed": false
   },
   "outputs": [],
   "source": [
    "def build_bootstrap_sample(n,rng_state=None):\n",
    "    held_out = np.ones(n,dtype=bool)\n",
    "    np.random.RandomState(rng_state)\n",
    "    samples = []\n",
    "    for _ in range(n):\n",
    "        k = np.random.randint(n)\n",
    "        samples.append(k)\n",
    "        held_out[k] = False\n",
    "    samples = np.array(samples)\n",
    "    return samples,held_out\n",
    "    \n",
    "n_folds = 100\n",
    "scores = np.zeros([n_folds,models.shape[0]])\n",
    "for i in range(n_folds):\n",
    "    samples,held_out = build_bootstrap_sample(X.shape[0])\n",
    "    y_train = y[samples]\n",
    "    y_test = y[held_out]\n",
    "    for j in range(models.shape[0]):\n",
    "        X_train = X[samples,:]\n",
    "        X_test = X[held_out,:]\n",
    "        X_train = X_train[:,models[j,:]]\n",
    "        X_test = X_test[:,models[j,:]]\n",
    "        model = linear_model.LinearRegression()\n",
    "        model.fit(X_train,y_train)\n",
    "        y_train_hat = model.predict(X_train)\n",
    "        y_test_hat = model.predict(X_test)\n",
    "        err_bar = metrics.mean_squared_error(y_train,y_train_hat)\n",
    "        err_boot = metrics.mean_squared_error(y_test_hat,y_test)\n",
    "        err = 0.368*err_bar + 0.632*err_boot\n",
    "        scores[i,j] = err\n",
    "plt.xkcd()        \n",
    "plt.boxplot(scores)\n",
    "plt.ylabel('Mean Squared Error')\n",
    "plt.xlabel('Model')\n",
    "plt.title('Bootstrap error')"
   ]
  },
  {
   "cell_type": "markdown",
   "metadata": {},
   "source": [
    "## Question 3\n",
    "\n",
    "Fit a series of random-forest classifiers to the very low birthweight infant data (`vlbw.csv`), to explore the sensitivity to the parameter `m`, the number of variables considered for splitting at each step. Plot both the out-of-bag error as well as the test error against a suitably-chosen range of values for `m`."
   ]
  },
  {
   "cell_type": "code",
   "execution_count": 4,
   "metadata": {
    "collapsed": false
   },
   "outputs": [
    {
     "name": "stdout",
     "output_type": "stream",
     "text": [
      "0\n",
      "1\n",
      "2\n",
      "3\n",
      "4\n",
      "5\n",
      "6\n",
      "7\n",
      "8\n",
      "9\n"
     ]
    },
    {
     "name": "stderr",
     "output_type": "stream",
     "text": [
      "C:\\Users\\Andrew Plassard\\Anaconda3\\lib\\site-packages\\ipykernel\\__main__.py:26: FutureWarning: the 'outtype' keyword is deprecated, use 'orient' instead\n"
     ]
    },
    {
     "data": {
      "text/plain": [
       "[<matplotlib.lines.Line2D at 0x2a58cc0>,\n",
       " <matplotlib.lines.Line2D at 0x2a5e630>]"
      ]
     },
     "execution_count": 4,
     "metadata": {},
     "output_type": "execute_result"
    },
    {
     "data": {
      "image/png": "[encoded data removed]",
      "text/plain": [
       "<matplotlib.figure.Figure at 0xeb9f98>"
      ]
     },
     "metadata": {},
     "output_type": "display_data"
    }
   ],
   "source": [
    "%matplotlib inline\n",
    "import matplotlib.pyplot as plt\n",
    "from sklearn.ensemble import RandomForestClassifier\n",
    "from sklearn.cross_validation import KFold\n",
    "from sklearn.feature_extraction import DictVectorizer\n",
    "import pandas as pd\n",
    "import numpy as np\n",
    "\n",
    "def encode_onehot(df, cols):\n",
    "    \"\"\"\n",
    "    One-hot encoding is applied to columns specified in a pandas DataFrame.\n",
    "    \n",
    "    Modified from: https://gist.github.com/kljensen/5452382\n",
    "    \n",
    "    Details:\n",
    "    \n",
    "    http://en.wikipedia.org/wiki/One-hot\n",
    "    http://scikit-learn.org/stable/modules/generated/sklearn.preprocessing.OneHotEncoder.html\n",
    "    \n",
    "    @param df pandas DataFrame\n",
    "    @param cols a list of columns to encode\n",
    "    @return a DataFrame with one-hot encoding\n",
    "    \"\"\"\n",
    "    vec = DictVectorizer()\n",
    "    \n",
    "    vec_data = pd.DataFrame(vec.fit_transform(df[cols].to_dict(outtype='records')).toarray())\n",
    "    vec_data.columns = vec.get_feature_names()\n",
    "    vec_data.index = df.index\n",
    "    \n",
    "    df = df.drop(cols, axis=1)\n",
    "    df = df.join(vec_data)\n",
    "    return df\n",
    "\n",
    "\n",
    "\n",
    "mat = pd.read_csv('../data/vlbw.csv',sep=',')\n",
    "X = mat.copy()\n",
    "y = X.pop('dead')\n",
    "_ = X.pop('Unnamed: 0')\n",
    "mask = np.zeros(X.shape[1],dtype=bool)\n",
    "mask[5] = True\n",
    "mask[8] = True\n",
    "mask[14] = True\n",
    "mask[20] = True\n",
    "mask[21] = True\n",
    "mask[22] = True\n",
    "mask[24] = True\n",
    "X = encode_onehot(X,[x for x in X.columns[mask]])\n",
    "X = np.array(X)\n",
    "y = np.array(y)\n",
    "X[np.isnan(X)] = -1\n",
    "\n",
    "min_estimators = 2\n",
    "max_estimators = X.shape[1]\n",
    "n_folds = 10\n",
    "\n",
    "test_error = np.zeros((max_estimators-min_estimators+1,n_folds))\n",
    "oob_error = np.zeros((max_estimators-min_estimators+1,n_folds))\n",
    "\n",
    "kfold = KFold(X.shape[0],n_folds=n_folds,shuffle=True)\n",
    "\n",
    "n_fold = 0\n",
    "for train,test in kfold:\n",
    "    print(n_fold)\n",
    "    X_train = X[train,:]\n",
    "    X_test = X[test,:]\n",
    "    y_train = y[train]\n",
    "    y_test = y[test]\n",
    "    n_est = 0\n",
    "    for i in range(min_estimators,max_estimators+1):\n",
    "        clf = RandomForestClassifier(max_features=i,oob_score=True,n_estimators=50,max_depth=10)\n",
    "        clf.fit(X_train,y_train)\n",
    "        oob_err = 1 - clf.oob_score\n",
    "        test_err = 1 - clf.score(X_test,y_test)\n",
    "        oob_error[n_est,n_fold] = oob_err\n",
    "        test_error[n_est,n_fold] = test_err\n",
    "        n_est += 1\n",
    "    n_fold += 1\n",
    "    \n",
    "plt.plot(np.arange(min_estimators,max_estimators+1),test_error.mean(axis=1),np.arange(min_estimators,max_estimators+1),oob_error.mean(axis=1))"
   ]
  },
  {
   "cell_type": "code",
   "execution_count": null,
   "metadata": {
    "collapsed": false,
    "scrolled": true
   },
   "outputs": [],
   "source": [
    "plt.plot(np.arange(min_estimators,max_estimators+1),test_error.mean(axis=1),'b-',np.arange(min_estimators,max_estimators+1),oob_error.mean(axis=1),'r-')"
   ]
  },
  {
   "cell_type": "markdown",
   "metadata": {},
   "source": [
    "## Bonus: Question 4\n",
    "\n",
    "Use a grid search to optimize the number of estimators and max_depth for a Gradient Boosted Decision tree using the very low birthweight infant data. Plug this optimal ``max_depth`` into a *single* decision tree.  Does this single tree over-fit or under-fit the data? Repeat this for the Random Forest.  Construct a single decision tree using the ``max_depth`` which is optimal for the Random Forest.  Does this single tree over-fit or under-fit the data?"
   ]
  },
  {
   "cell_type": "code",
   "execution_count": null,
   "metadata": {
    "collapsed": true
   },
   "outputs": [],
   "source": [
    "# Write your work here"
   ]
  }
 ],
 "metadata": {
  "kernelspec": {
   "display_name": "Python 3",
   "language": "python",
   "name": "python3"
  },
  "language_info": {
   "codemirror_mode": {
    "name": "ipython",
    "version": 3
   },
   "file_extension": ".py",
   "mimetype": "text/x-python",
   "name": "python",
   "nbconvert_exporter": "python",
   "pygments_lexer": "ipython3",
   "version": "3.4.3"
  }
 },
 "nbformat": 4,
 "nbformat_minor": 0
}
