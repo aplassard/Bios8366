{
 "cells": [
  {
   "cell_type": "markdown",
   "metadata": {},
   "source": [
    "Answer all questions and submit them either as an IPython notebook, LaTeX document, or Markdown document. Provide full answers for each question, including interpretation of the results. Each question is worth 25 points.\n",
    "\n",
    "This homework is due on Monday, November 30, 2015."
   ]
  },
  {
   "cell_type": "markdown",
   "metadata": {},
   "source": [
    "## Instructor comments below in large type"
   ]
  },
  {
   "cell_type": "markdown",
   "metadata": {},
   "source": [
    "## Question 1\n",
    "\n",
    "The `titanic.xls` spreadsheet in the `data` directory contains data regarding the passengers on the Titanic when it sank in 1912. A recent [Kaggle competition](http://www.kaggle.com/c/titanic-gettingStarted) was based on predicting survival for passengers based on the attributes in the passenger list. \n",
    "\n",
    "Use scikit-learn to build both a support vector classifier and a logistic regression model to predict survival on the Titanic. Use cross-validation to assess your models, and try to tune them to improve performance.\n",
    "\n",
    "Discuss the benefits and drawbacks of both approaches for application to such problems."
   ]
  },
  {
   "cell_type": "code",
   "execution_count": 1,
   "metadata": {
    "collapsed": false
   },
   "outputs": [
    {
     "name": "stderr",
     "output_type": "stream",
     "text": [
      "/Users/fonnescj/Github/scikit-learn/sklearn/cross_validation.py:42: DeprecationWarning: This module has been deprecated in favor of the model_selection module into which all the refactored classes and functions are moved. Also note that the interface of the new CV iterators are different from that of this module. This module will be removed in 0.19.\n",
      "  \"This module will be removed in 0.19.\", DeprecationWarning)\n"
     ]
    }
   ],
   "source": [
    "# Write your work here\n",
    "%matplotlib inline\n",
    "import matplotlib.pyplot as plt\n",
    "import pandas as pd\n",
    "import numpy as np\n",
    "\n",
    "from sklearn import svm\n",
    "from sklearn.linear_model import LogisticRegression\n",
    "from sklearn import metrics, cross_validation\n",
    "from sklearn.preprocessing import StandardScaler\n",
    "\n",
    "def evaluate(clf, X, Y):\n",
    "    all_auc = []\n",
    "\n",
    "    #Randomly split data into train and test sets\n",
    "    cv = cross_validation.KFold(n=Y.shape[0], n_folds=10)\n",
    "    #cv = cross_validation.StratifiedKFold(Y, n_folds=10)\n",
    "    all_fpr = []\n",
    "    all_tpr = []\n",
    "    all_distances = np.zeros(len(Y))\n",
    "    for i, (train, test) in enumerate(cv):\n",
    "        prep = StandardScaler()\n",
    "        X_train = X[train]\n",
    "        X_train = prep.fit_transform(X_train)\n",
    "        X_test = prep.transform(X[test])\n",
    "        distance = clf.fit(X_train, Y[train]).decision_function(X_test)\n",
    "        all_distances[test] = distance\n",
    "\n",
    "    return all_distances, metrics.roc_auc_score(Y, all_distances)"
   ]
  },
  {
   "cell_type": "code",
   "execution_count": 4,
   "metadata": {
    "collapsed": false
   },
   "outputs": [],
   "source": [
    "#Load and clean data\n",
    "titanic = pd.read_excel('../../../Bios8366/data/titanic.xls')\n",
    "\n",
    "titanic = titanic.dropna(subset=['survived'])\n",
    "titanic['female'] = titanic.sex.map({'female': 1, 'male': 0})\n",
    "titanic['sibsp_onehot'] = titanic.sibsp.map({0:0,1:1,2:1})\n",
    "titanic['embark_onehot'] = titanic.embarked.map({'C':0,'S':1})\n",
    "\n",
    "#Replace missing values with mean\n",
    "titanic.age.fillna((titanic.age.mean()), inplace=True)\n",
    "titanic.fare.fillna((titanic.fare.mean()), inplace=True)\n",
    "titanic = titanic.dropna(subset=['pclass','female','sibsp_onehot','parch','embark_onehot'])\n",
    "\n",
    "#Build X and Y matrices from data\n",
    "X = []\n",
    "Y = []\n",
    "\n",
    "for row in titanic.iterrows():\n",
    "    index, data = row\n",
    "    X.append([data.pclass, data.female, data.age, \n",
    "              data.fare, data.sibsp_onehot, \n",
    "              data.parch, data.embark_onehot])\n",
    "    Y.append(data.survived)\n",
    "    \n",
    "X = np.asarray(X)\n",
    "Y = np.asarray(Y)\n"
   ]
  },
  {
   "cell_type": "code",
   "execution_count": 3,
   "metadata": {
    "collapsed": false
   },
   "outputs": [
    {
     "name": "stdout",
     "output_type": "stream",
     "text": [
      "AUC for SVM:\n",
      "0.77920612335\n",
      "AUC for LR:\n",
      "0.834566508022\n"
     ]
    },
    {
     "data": {
      "text/plain": [
       "<matplotlib.legend.Legend at 0x95defd0>"
      ]
     },
     "execution_count": 3,
     "metadata": {},
     "output_type": "execute_result"
    },
    {
     "data": {
      "image/png": "[encoded data removed]",
      "text/plain": [
       "<matplotlib.figure.Figure at 0x61abba8>"
      ]
     },
     "metadata": {},
     "output_type": "display_data"
    }
   ],
   "source": [
    "#Classifiers\n",
    "clfs = [(\"SVM\", svm.SVC(kernel='linear')), (\"LR\", LogisticRegression())]\n",
    "for name, c in clfs:\n",
    "    distances, auc = evaluate(c, X, Y)\n",
    "    print(\"AUC for %s:\" % name)\n",
    "    print(auc)\n",
    "    fpr,tpr,thresholds = metrics.roc_curve(Y, distances)\n",
    "    plt.plot(fpr,tpr)\n",
    "    \n",
    "plt.legend(['SVM - linear','Logistic Regression'])"
   ]
  },
  {
   "cell_type": "code",
   "execution_count": 4,
   "metadata": {
    "collapsed": false
   },
   "outputs": [
    {
     "name": "stdout",
     "output_type": "stream",
     "text": [
      "AUC for SVM 0.1 Linear:\n",
      "0.795170338387\n",
      "AUC for SVM 1 Linear:\n",
      "0.77920612335\n",
      "AUC for SVM 10 Linear:\n",
      "0.789748622083\n",
      "AUC for SVM 0.1 Linear L1-Norm:\n",
      "0.835673748426\n",
      "AUC for SVM 1 Linear L1-Norm:\n",
      "0.835237067203\n",
      "AUC for SVM 10 Linear L1-Norm:\n",
      "0.835259964346\n",
      "AUC for SVM 0.1 Linear L2-Norm:\n",
      "0.835184730877\n",
      "AUC for SVM 1 Linear L2-Norm:\n",
      "0.835240338224\n",
      "AUC for SVM 10 Linear L2-Norm:\n",
      "0.835240338224\n",
      "AUC for SVM 0.1 RBF:\n",
      "0.834658096593\n",
      "AUC for SVM 1 RBF:\n",
      "0.819274487676\n",
      "AUC for SVM 10 RBF:\n",
      "0.79710024042\n",
      "AUC for Logistic Regression:\n",
      "0.834566508022\n"
     ]
    },
    {
     "data": {
      "text/plain": [
       "<matplotlib.legend.Legend at 0xa973f60>"
      ]
     },
     "execution_count": 4,
     "metadata": {},
     "output_type": "execute_result"
    },
    {
     "data": {
      "image/png": "[encoded data removed]",
      "text/plain": [
       "<matplotlib.figure.Figure at 0x5f40128>"
      ]
     },
     "metadata": {},
     "output_type": "display_data"
    }
   ],
   "source": [
    "#The linear clearly works the best, let's optimize C\n",
    "#Classifiers\n",
    "clfs = [(\"SVM 0.1 Linear\", svm.SVC(C=0.1,kernel='linear')), \n",
    "        (\"SVM 1 Linear\", svm.SVC(C=1, kernel='linear')), \n",
    "        (\"SVM 10 Linear\", svm.SVC(C=10, kernel='linear')),\n",
    "        (\"SVM 0.1 Linear L1-Norm\", svm.LinearSVC(C=0.1,penalty='l1',dual=False,max_iter=100000)),\n",
    "        (\"SVM 1 Linear L1-Norm\", svm.LinearSVC(C=1,penalty='l1',dual=False,max_iter=100000)),\n",
    "        (\"SVM 10 Linear L1-Norm\", svm.LinearSVC(C=10,penalty='l1',dual=False,max_iter=100000)),\n",
    "        (\"SVM 0.1 Linear L2-Norm\", svm.LinearSVC(C=0.1,penalty='l2',dual=False,max_iter=100000)),\n",
    "        (\"SVM 1 Linear L2-Norm\", svm.LinearSVC(C=1,penalty='l2',dual=False,max_iter=100000)),\n",
    "        (\"SVM 10 Linear L2-Norm\", svm.LinearSVC(C=10,penalty='l2',dual=False,max_iter=100000)),\n",
    "        (\"SVM 0.1 RBF\", svm.SVC(C=0.1,kernel='rbf')), \n",
    "        (\"SVM 1 RBF\", svm.SVC(C=1, kernel='rbf')),\n",
    "        (\"SVM 10 RBF\", svm.SVC(C=10, kernel='rbf')),\n",
    "        (\"Logistic Regression\", LogisticRegression())]\n",
    "for name, c in clfs:\n",
    "    distances, auc = evaluate(c, X, Y)\n",
    "    print(\"AUC for %s:\" % name)\n",
    "    print(auc)\n",
    "    fpr,tpr,thresholds = metrics.roc_curve(Y, distances)\n",
    "    plt.plot(fpr,tpr)\n",
    "    \n",
    "plt.legend([x[0] for x in clfs])"
   ]
  },
  {
   "cell_type": "markdown",
   "metadata": {},
   "source": [
    "In this section we considered using logistic regression and support vector machines for classification of the titanic dataset. We considered two different formalizations of linear SVMs implemented in scikit-learn and an SVM with an RBF kernel. What we found is that, in general, the Logistic Regression model outperforms the support vector machine in terms of AUC but the SVM model can be tuned to do comparably with logistic regression. Also, though not included in this, it appears that it is important that we use K-fold cross-validation instead of stratified k-fold to balance classes. This may be because we need to inherently preserve the prior distribution of data class when we are building the models, but this is just a hypothesis."
   ]
  },
  {
   "cell_type": "markdown",
   "metadata": {},
   "source": [
    "## SVM is also significantly slower than LR\n",
    "\n",
    "## 25/25"
   ]
  },
  {
   "cell_type": "markdown",
   "metadata": {},
   "source": [
    "## Question 2\n",
    "\n",
    "The data in `prostate.data.txt` come from a study by Stamey et al. (1989), which examined the correlation between the level of prostate-specific antigen (`lpsa`) and a number of clinical measures in men who were about to receive a radical prostatectomy. The variables are log cancer volume (`lcavol`), log prostate weight (`lweight`), age, log of the amount of benign prostatic hyperplasia (`lbph`), seminal vesicle invasion (`svi`), log of capsular penetration (`lcp`), Gleason score (`gleason`), and percent of Gleason scores 4 or 5 (`pgg45`). \n",
    "\n",
    "1. Select (your choice) five competing 3-variable linear regression models, and compare them using AIC, five-fold and ten-fold cross-validation. Discuss the results.\n",
    "\n",
    "2. An alternative method for model assessment is to fit the models on a set of bootstrap samples, and then keep track of how well it predicts the original training set. If $\\hat{f}^b(x_i)$ is the predicted value at $x_i$, from the model fitted to the bth bootstrap dataset, such an estimate is:\n",
    "$$\\frac{1}{B} \\frac{1}{N} \\sum_{b=1}^B \\sum_{i=1}^N L(y_i,\\hat{f}^b(x_i)) $$\n",
    "However, because the bootstrap samples tend to contain many observations in common among the set of bootstrap samples, this estimate will tend to underestimate the true error rate. The so-called .632 estimator aleviates this bias by returning a weighted average of the training error (average loss over the training sample) and the leave-one-out (LOO) bootstrap error:\n",
    "$$\\hat{err}^{(.632)} = 0.368 \\, \\bar{err} + 0.632 \\, \\hat{err}^{(1)}$$\n",
    "where:\n",
    "$$\\bar{err} = \\frac{1}{N}\\sum_{i=1}^N L(y_i, \\hat{f}(x_i)) $$\n",
    "Repeat the assesment from part (1) using the .632 estimator, and compare the result to the other approaches."
   ]
  },
  {
   "cell_type": "code",
   "execution_count": 5,
   "metadata": {
    "collapsed": false
   },
   "outputs": [],
   "source": [
    "# Load the data\n",
    "%matplotlib inline\n",
    "import matplotlib.pyplot as plt\n",
    "import pandas as pd\n",
    "import numpy as np\n",
    "mat = pd.read_csv('../data/prostate.data.txt',sep='\\t')\n",
    "X = mat.copy()\n",
    "variables = ['lcavol','lweight','lbph','svi','lcp','gleason','pgg45']\n",
    "y = X.pop('lpsa')\n",
    "X = {x:X.pop(x) for x in variables}\n",
    "X = pd.DataFrame(X)"
   ]
  },
  {
   "cell_type": "code",
   "execution_count": 6,
   "metadata": {
    "collapsed": false
   },
   "outputs": [
    {
     "name": "stdout",
     "output_type": "stream",
     "text": [
      "[-5.7532595927925083, -49.663553057345638, -4.2014833010948749, -27.013032512161338, -5.6269934066868146]\n"
     ]
    }
   ],
   "source": [
    "# Lets look at AIC\n",
    "aic = lambda g: g.nobs * np.log((g.resid**2).sum()/g.nobs) + 2*len(g.beta)\n",
    "\n",
    "models = [\n",
    "    [1,1,0,1,0,0,0],\n",
    "    [1,0,1,0,0,0,1],\n",
    "    [0,1,0,0,1,1,0],\n",
    "    [0,0,0,0,1,1,1],\n",
    "    [0,1,0,1,0,1,0],\n",
    "]\n",
    "models = np.array(models)>0\n",
    "aics = []\n",
    "for i in range(models.shape[0]):\n",
    "    X_pred = X[X.columns[models[i,:]]]\n",
    "    g = pd.ols(y=y, x=X_pred)\n",
    "    aics.append(aic(g))\n",
    "print(aics)"
   ]
  },
  {
   "cell_type": "markdown",
   "metadata": {},
   "source": [
    "This shows that the second model is the best"
   ]
  },
  {
   "cell_type": "code",
   "execution_count": 7,
   "metadata": {
    "collapsed": false
   },
   "outputs": [
    {
     "data": {
      "text/plain": [
       "<matplotlib.text.Text at 0xaf8fef0>"
      ]
     },
     "execution_count": 7,
     "metadata": {},
     "output_type": "execute_result"
    },
    {
     "data": {
      "image/png": "[encoded data removed]",
      "text/plain": [
       "<matplotlib.figure.Figure at 0x7a68b70>"
      ]
     },
     "metadata": {},
     "output_type": "display_data"
    }
   ],
   "source": [
    "from sklearn import cross_validation\n",
    "from sklearn import linear_model\n",
    "from sklearn import metrics\n",
    "# Switching to scikit-learn since that's more comfortable for me\n",
    "\n",
    "X = np.array(X)\n",
    "y = np.array(y)\n",
    "\n",
    "n_folds = 5\n",
    "kfold = cross_validation.KFold(X.shape[0],n_folds=n_folds,shuffle=True)\n",
    "scores = np.zeros([n_folds,models.shape[0]])\n",
    "n = 0\n",
    "for train,test in kfold:\n",
    "    for i in range(models.shape[0]):\n",
    "        X_train = X[train,:]\n",
    "        X_train = X_train[:,models[i,:]]\n",
    "        X_test = X[test,:]\n",
    "        X_test = X_test[:,models[i,:]]\n",
    "        y_train = y[train]\n",
    "        y_test = y[test]\n",
    "        model = linear_model.LinearRegression()\n",
    "        model.fit(X_train,y_train)\n",
    "        y_hat = model.predict(X_test)\n",
    "        scores[n,i] = metrics.mean_squared_error(y_hat,y_test)\n",
    "    n += 1\n",
    "plt.boxplot(scores)\n",
    "plt.ylabel('Mean Squared Error')\n",
    "plt.xlabel('Model')\n",
    "plt.title('5 Fold Cross-Validation')"
   ]
  },
  {
   "cell_type": "code",
   "execution_count": 8,
   "metadata": {
    "collapsed": false
   },
   "outputs": [
    {
     "data": {
      "text/plain": [
       "<matplotlib.text.Text at 0xb0585c0>"
      ]
     },
     "execution_count": 8,
     "metadata": {},
     "output_type": "execute_result"
    },
    {
     "data": {
      "image/png": "[encoded data removed]",
      "text/plain": [
       "<matplotlib.figure.Figure at 0xb027b70>"
      ]
     },
     "metadata": {},
     "output_type": "display_data"
    }
   ],
   "source": [
    "from sklearn import cross_validation\n",
    "from sklearn import linear_model\n",
    "from sklearn import metrics\n",
    "# Switching to scikit-learn since that's more comfortable for me\n",
    "\n",
    "X = np.array(X)\n",
    "y = np.array(y)\n",
    "\n",
    "n_folds = 10\n",
    "kfold = cross_validation.KFold(X.shape[0],n_folds=n_folds,shuffle=True)\n",
    "scores = np.zeros([n_folds,models.shape[0]])\n",
    "n = 0\n",
    "for train,test in kfold:\n",
    "    for i in range(models.shape[0]):\n",
    "        X_train = X[train,:]\n",
    "        X_train = X_train[:,models[i,:]]\n",
    "        X_test = X[test,:]\n",
    "        X_test = X_test[:,models[i,:]]\n",
    "        y_train = y[train]\n",
    "        y_test = y[test]\n",
    "        model = linear_model.LinearRegression()\n",
    "        model.fit(X_train,y_train)\n",
    "        y_hat = model.predict(X_test)\n",
    "        scores[n,i] = metrics.mean_squared_error(y_hat,y_test)\n",
    "    n += 1\n",
    "plt.boxplot(scores)\n",
    "plt.ylabel('Mean Squared Error')\n",
    "plt.xlabel('Model')\n",
    "plt.title('10 Fold Cross-Validation')"
   ]
  },
  {
   "cell_type": "code",
   "execution_count": 9,
   "metadata": {
    "collapsed": false
   },
   "outputs": [
    {
     "data": {
      "text/plain": [
       "<matplotlib.text.Text at 0xb1201d0>"
      ]
     },
     "execution_count": 9,
     "metadata": {},
     "output_type": "execute_result"
    },
    {
     "data": {
      "image/png": "[encoded data removed]",
      "text/plain": [
       "<matplotlib.figure.Figure at 0xb0f8cc0>"
      ]
     },
     "metadata": {},
     "output_type": "display_data"
    }
   ],
   "source": [
    "def build_bootstrap_sample(n,rng_state=None):\n",
    "    held_out = np.ones(n,dtype=bool)\n",
    "    np.random.RandomState(rng_state)\n",
    "    samples = []\n",
    "    for _ in range(n):\n",
    "        k = np.random.randint(n)\n",
    "        samples.append(k)\n",
    "        held_out[k] = False\n",
    "    samples = np.array(samples)\n",
    "    return samples,held_out\n",
    "    \n",
    "n_folds = 100\n",
    "scores = np.zeros([n_folds,models.shape[0]])\n",
    "for i in range(n_folds):\n",
    "    samples,held_out = build_bootstrap_sample(X.shape[0])\n",
    "    y_train = y[samples]\n",
    "    y_test = y[held_out]\n",
    "    for j in range(models.shape[0]):\n",
    "        X_train = X[samples,:]\n",
    "        X_test = X[held_out,:]\n",
    "        X_train = X_train[:,models[j,:]]\n",
    "        X_test = X_test[:,models[j,:]]\n",
    "        model = linear_model.LinearRegression()\n",
    "        model.fit(X_train,y_train)\n",
    "        y_train_hat = model.predict(X_train)\n",
    "        y_test_hat = model.predict(X_test)\n",
    "        err_bar = metrics.mean_squared_error(y_train,y_train_hat)\n",
    "        err_boot = metrics.mean_squared_error(y_test_hat,y_test)\n",
    "        err = 0.368*err_bar + 0.632*err_boot\n",
    "        scores[i,j] = err\n",
    "plt.boxplot(scores)\n",
    "plt.ylabel('Mean Squared Error')\n",
    "plt.xlabel('Model')\n",
    "plt.title('Bootstrap error')"
   ]
  },
  {
   "cell_type": "markdown",
   "metadata": {},
   "source": [
    "Here we compared four different methods of model validation: AIC, 5-fold cross-validation, 10-fold cross-validation, and bootstrap validation. We compared these four methods of validation on 5 different 3-variable models. In all four methods showed that the second model was the best model."
   ]
  },
  {
   "cell_type": "markdown",
   "metadata": {},
   "source": [
    "## 25/25"
   ]
  },
  {
   "cell_type": "markdown",
   "metadata": {},
   "source": [
    "## Question 3\n",
    "\n",
    "Fit a series of random-forest classifiers to the very low birthweight infant data (`vlbw.csv`), to explore the sensitivity to the parameter `m`, the number of variables considered for splitting at each step. Plot both the out-of-bag error as well as the test error against a suitably-chosen range of values for `m`."
   ]
  },
  {
   "cell_type": "code",
   "execution_count": 10,
   "metadata": {
    "collapsed": false
   },
   "outputs": [
    {
     "name": "stderr",
     "output_type": "stream",
     "text": [
      "C:\\Users\\Andrew Plassard\\Anaconda3\\lib\\site-packages\\ipykernel\\__main__.py:29: FutureWarning: the 'outtype' keyword is deprecated, use 'orient' instead\n"
     ]
    },
    {
     "data": {
      "text/plain": [
       "<matplotlib.legend.Legend at 0xb027c88>"
      ]
     },
     "execution_count": 10,
     "metadata": {},
     "output_type": "execute_result"
    },
    {
     "data": {
      "image/png": "[encoded data removed]",
      "text/plain": [
       "<matplotlib.figure.Figure at 0xb1d3eb8>"
      ]
     },
     "metadata": {},
     "output_type": "display_data"
    }
   ],
   "source": [
    "%matplotlib inline\n",
    "import matplotlib.pyplot as plt\n",
    "from sklearn.ensemble import RandomForestClassifier\n",
    "from sklearn.cross_validation import KFold\n",
    "from sklearn.feature_extraction import DictVectorizer\n",
    "import pandas as pd\n",
    "import numpy as np\n",
    "\n",
    "import warnings\n",
    "warnings.filterwarnings(\"ignore\", category=UserWarning, module=\"sklearn\")\n",
    "\n",
    "def encode_onehot(df, cols):\n",
    "    \"\"\"\n",
    "    One-hot encoding is applied to columns specified in a pandas DataFrame.\n",
    "    \n",
    "    Modified from: https://gist.github.com/kljensen/5452382\n",
    "    \n",
    "    Details:\n",
    "    \n",
    "    http://en.wikipedia.org/wiki/One-hot\n",
    "    http://scikit-learn.org/stable/modules/generated/sklearn.preprocessing.OneHotEncoder.html\n",
    "    \n",
    "    @param df pandas DataFrame\n",
    "    @param cols a list of columns to encode\n",
    "    @return a DataFrame with one-hot encoding\n",
    "    \"\"\"\n",
    "    vec = DictVectorizer()\n",
    "    \n",
    "    vec_data = pd.DataFrame(vec.fit_transform(df[cols].to_dict(outtype='records')).toarray())\n",
    "    vec_data.columns = vec.get_feature_names()\n",
    "    vec_data.index = df.index\n",
    "    \n",
    "    df = df.drop(cols, axis=1)\n",
    "    df = df.join(vec_data)\n",
    "    return df\n",
    "\n",
    "\n",
    "\n",
    "mat = pd.read_csv('../data/vlbw.csv',sep=',')\n",
    "X = mat.copy()\n",
    "y = X.pop('dead')\n",
    "_ = X.pop('Unnamed: 0')\n",
    "mask = np.zeros(X.shape[1],dtype=bool)\n",
    "mask[5] = True\n",
    "mask[8] = True\n",
    "mask[14] = True\n",
    "mask[20] = True\n",
    "mask[21] = True\n",
    "mask[22] = True\n",
    "mask[24] = True\n",
    "X = encode_onehot(X,[x for x in X.columns[mask]])\n",
    "X = np.array(X)\n",
    "y = np.array(y)\n",
    "X[np.isnan(X)] = -1\n",
    "\n",
    "min_estimators = 2\n",
    "max_estimators = X.shape[1]\n",
    "n_folds = 10\n",
    "\n",
    "test_error = np.zeros((max_estimators-min_estimators+1,n_folds))\n",
    "oob_error = np.zeros((max_estimators-min_estimators+1,n_folds))\n",
    "\n",
    "kfold = KFold(X.shape[0],n_folds=n_folds,shuffle=True)\n",
    "\n",
    "n_fold = 0\n",
    "for train,test in kfold:\n",
    "    X_train = X[train,:]\n",
    "    X_test = X[test,:]\n",
    "    y_train = y[train]\n",
    "    y_test = y[test]\n",
    "    n_est = 0\n",
    "    for i in range(min_estimators,max_estimators+1):\n",
    "        clf = RandomForestClassifier(max_features=i,oob_score=True,warm_start=True)\n",
    "        clf.fit(X_train,y_train)\n",
    "        oob_err = 1 - clf.oob_score_\n",
    "        test_err = 1 - clf.score(X_test,y_test)\n",
    "        oob_error[n_est,n_fold] = oob_err\n",
    "        test_error[n_est,n_fold] = test_err\n",
    "        n_est += 1\n",
    "    n_fold += 1\n",
    "    \n",
    "plt.plot(np.arange(min_estimators,max_estimators+1),test_error.mean(axis=1),np.arange(min_estimators,max_estimators+1),oob_error.mean(axis=1))\n",
    "plt.legend([\"Testing Error\",\"OOB Error\"])"
   ]
  },
  {
   "cell_type": "markdown",
   "metadata": {},
   "source": [
    "In this section we parsed the dataset into a matrix. We encoded the features into one-hot vectors where appropriate and identified NaNs for features in another column. We then performed random forest regression with increasing numbers of features. We found that the hinge point occurs near 10 features per tree. This is higher than the typical metric of (sqrt(num_features)) that is used in most random forest packages. It should be noted that it is most likely best if certain categorical features are kept together or handled slightly differently such as the categorical \"yes\"/\"no\"/\"NA\" values that we coded."
   ]
  },
  {
   "cell_type": "markdown",
   "metadata": {},
   "source": [
    "## 25/25"
   ]
  },
  {
   "cell_type": "markdown",
   "metadata": {},
   "source": [
    "## Bonus: Question 4\n",
    "\n",
    "Use a grid search to optimize the number of estimators and max_depth for a Gradient Boosted Decision tree using the very low birthweight infant data. Plug this optimal ``max_depth`` into a *single* decision tree.  Does this single tree over-fit or under-fit the data? Repeat this for the Random Forest.  Construct a single decision tree using the ``max_depth`` which is optimal for the Random Forest.  Does this single tree over-fit or under-fit the data?"
   ]
  },
  {
   "cell_type": "code",
   "execution_count": 11,
   "metadata": {
    "collapsed": false
   },
   "outputs": [
    {
     "name": "stderr",
     "output_type": "stream",
     "text": [
      "C:\\Users\\Andrew Plassard\\Anaconda3\\lib\\site-packages\\ipykernel\\__main__.py:27: FutureWarning: the 'outtype' keyword is deprecated, use 'orient' instead\n"
     ]
    }
   ],
   "source": [
    "%matplotlib inline\n",
    "import matplotlib.pyplot as plt\n",
    "from sklearn.feature_extraction import DictVectorizer\n",
    "import pandas as pd\n",
    "import numpy as np\n",
    "\n",
    "import warnings\n",
    "warnings.filterwarnings(\"ignore\", category=UserWarning, module=\"sklearn\")\n",
    "\n",
    "def encode_onehot(df, cols):\n",
    "    \"\"\"\n",
    "    One-hot encoding is applied to columns specified in a pandas DataFrame.\n",
    "    \n",
    "    Modified from: https://gist.github.com/kljensen/5452382\n",
    "    \n",
    "    Details:\n",
    "    \n",
    "    http://en.wikipedia.org/wiki/One-hot\n",
    "    http://scikit-learn.org/stable/modules/generated/sklearn.preprocessing.OneHotEncoder.html\n",
    "    \n",
    "    @param df pandas DataFrame\n",
    "    @param cols a list of columns to encode\n",
    "    @return a DataFrame with one-hot encoding\n",
    "    \"\"\"\n",
    "    vec = DictVectorizer()\n",
    "    \n",
    "    vec_data = pd.DataFrame(vec.fit_transform(df[cols].to_dict(outtype='records')).toarray())\n",
    "    vec_data.columns = vec.get_feature_names()\n",
    "    vec_data.index = df.index\n",
    "    \n",
    "    df = df.drop(cols, axis=1)\n",
    "    df = df.join(vec_data)\n",
    "    return df\n",
    "\n",
    "\n",
    "\n",
    "mat = pd.read_csv('../data/vlbw.csv',sep=',')\n",
    "X = mat.copy()\n",
    "y = X.pop('dead')\n",
    "_ = X.pop('Unnamed: 0')\n",
    "mask = np.zeros(X.shape[1],dtype=bool)\n",
    "mask[5] = True\n",
    "mask[8] = True\n",
    "mask[14] = True\n",
    "mask[20] = True\n",
    "mask[21] = True\n",
    "mask[22] = True\n",
    "mask[24] = True\n",
    "X = encode_onehot(X,[x for x in X.columns[mask]])\n",
    "X = np.array(X)\n",
    "y = np.array(y)\n",
    "X[np.isnan(X)] = -1\n"
   ]
  },
  {
   "cell_type": "code",
   "execution_count": 12,
   "metadata": {
    "collapsed": true
   },
   "outputs": [],
   "source": [
    "#function to print report from \n",
    "#http://scikit-learn.org/stable/auto_examples/model_selection/randomized_search.html#example-model-selection-randomized-search-py\n",
    "from operator import itemgetter\n",
    "def report(grid_scores, n_top=10):\n",
    "    top_scores = sorted(grid_scores, key=itemgetter(1), reverse=True)[:n_top]\n",
    "    for i, score in enumerate(top_scores):\n",
    "        print(\"Model with rank: {0}\".format(i + 1))\n",
    "        print(\"Mean validation score: {0:.3f} (std: {1:.3f})\".format(\n",
    "              score.mean_validation_score,\n",
    "              np.std(score.cv_validation_scores)))\n",
    "        print(\"Parameters: {0}\".format(score.parameters))\n",
    "        print(\"\")"
   ]
  },
  {
   "cell_type": "code",
   "execution_count": 13,
   "metadata": {
    "collapsed": false
   },
   "outputs": [
    {
     "name": "stdout",
     "output_type": "stream",
     "text": [
      "Model with rank: 1\n",
      "Mean validation score: 0.897 (std: 0.037)\n",
      "Parameters: {'max_depth': 2, 'n_estimators': 50}\n",
      "\n",
      "Model with rank: 2\n",
      "Mean validation score: 0.891 (std: 0.015)\n",
      "Parameters: {'max_depth': 1, 'n_estimators': 50}\n",
      "\n",
      "Model with rank: 3\n",
      "Mean validation score: 0.888 (std: 0.025)\n",
      "Parameters: {'max_depth': 2, 'n_estimators': 25}\n",
      "\n",
      "Model with rank: 4\n",
      "Mean validation score: 0.887 (std: 0.017)\n",
      "Parameters: {'max_depth': 1, 'n_estimators': 25}\n",
      "\n",
      "Model with rank: 5\n",
      "Mean validation score: 0.881 (std: 0.037)\n",
      "Parameters: {'max_depth': 1, 'n_estimators': 100}\n",
      "\n",
      "Model with rank: 6\n",
      "Mean validation score: 0.872 (std: 0.065)\n",
      "Parameters: {'max_depth': 2, 'n_estimators': 100}\n",
      "\n",
      "Model with rank: 7\n",
      "Mean validation score: 0.852 (std: 0.013)\n",
      "Parameters: {'max_depth': 2, 'n_estimators': 10}\n",
      "\n",
      "Model with rank: 8\n",
      "Mean validation score: 0.846 (std: 0.026)\n",
      "Parameters: {'max_depth': 1, 'n_estimators': 10}\n",
      "\n",
      "Model with rank: 9\n",
      "Mean validation score: 0.817 (std: 0.125)\n",
      "Parameters: {'max_depth': 3, 'n_estimators': 25}\n",
      "\n",
      "Model with rank: 10\n",
      "Mean validation score: 0.785 (std: 0.000)\n",
      "Parameters: {'max_depth': 1, 'n_estimators': 2}\n",
      "\n"
     ]
    }
   ],
   "source": [
    "from sklearn.ensemble import GradientBoostingClassifier\n",
    "from sklearn.grid_search import GridSearchCV\n",
    "param_grid = {\n",
    "    \"n_estimators\":[2,10,25,50,100],\n",
    "    \"max_depth\":[1,2,3,4,5,10,25,50,None]\n",
    "}\n",
    "\n",
    "clf = GradientBoostingClassifier()\n",
    "grid_search = GridSearchCV(clf, param_grid=param_grid,verbose=False)\n",
    "grid_search.fit(X, y)\n",
    "report(grid_search.grid_scores_)\n"
   ]
  },
  {
   "cell_type": "markdown",
   "metadata": {},
   "source": [
    "## Minor point, but its never a good idea to hard-code the best parameter values -- just pass along the attribute"
   ]
  },
  {
   "cell_type": "code",
   "execution_count": 14,
   "metadata": {
    "collapsed": false
   },
   "outputs": [
    {
     "name": "stdout",
     "output_type": "stream",
     "text": [
      "0.87181738367\n"
     ]
    }
   ],
   "source": [
    "from sklearn.tree import DecisionTreeClassifier\n",
    "from sklearn.cross_validation import KFold\n",
    "\n",
    "n_folds = 10\n",
    "\n",
    "clf = DecisionTreeClassifier(max_depth = 2)\n",
    "kf = KFold(n=X.shape[0],n_folds=n_folds)\n",
    "\n",
    "scores = []\n",
    "for train,test in kf:\n",
    "    X_train = X[train,:]\n",
    "    y_train = y[train]\n",
    "    X_test = X[test,:]\n",
    "    y_test = y[test]\n",
    "    clf.fit(X_train,y_train)\n",
    "    scores.append(clf.score(X_test,y_test))\n",
    "print(np.mean(scores))"
   ]
  },
  {
   "cell_type": "markdown",
   "metadata": {},
   "source": [
    "Looks like it underfit with just one tree"
   ]
  },
  {
   "cell_type": "code",
   "execution_count": 15,
   "metadata": {
    "collapsed": false
   },
   "outputs": [
    {
     "name": "stdout",
     "output_type": "stream",
     "text": [
      "Model with rank: 1\n",
      "Mean validation score: 0.864 (std: 0.027)\n",
      "Parameters: {'max_depth': 2, 'n_estimators': 100}\n",
      "\n",
      "Model with rank: 2\n",
      "Mean validation score: 0.863 (std: 0.016)\n",
      "Parameters: {'max_depth': 1, 'n_estimators': 2}\n",
      "\n",
      "Model with rank: 3\n",
      "Mean validation score: 0.863 (std: 0.028)\n",
      "Parameters: {'max_depth': 2, 'n_estimators': 50}\n",
      "\n",
      "Model with rank: 4\n",
      "Mean validation score: 0.855 (std: 0.050)\n",
      "Parameters: {'max_depth': 2, 'n_estimators': 2}\n",
      "\n",
      "Model with rank: 5\n",
      "Mean validation score: 0.852 (std: 0.020)\n",
      "Parameters: {'max_depth': 3, 'n_estimators': 100}\n",
      "\n",
      "Model with rank: 6\n",
      "Mean validation score: 0.849 (std: 0.021)\n",
      "Parameters: {'max_depth': 3, 'n_estimators': 50}\n",
      "\n",
      "Model with rank: 7\n",
      "Mean validation score: 0.846 (std: 0.029)\n",
      "Parameters: {'max_depth': 3, 'n_estimators': 2}\n",
      "\n",
      "Model with rank: 8\n",
      "Mean validation score: 0.839 (std: 0.035)\n",
      "Parameters: {'max_depth': None, 'n_estimators': 2}\n",
      "\n",
      "Model with rank: 9\n",
      "Mean validation score: 0.838 (std: 0.043)\n",
      "Parameters: {'max_depth': 2, 'n_estimators': 10}\n",
      "\n",
      "Model with rank: 10\n",
      "Mean validation score: 0.833 (std: 0.040)\n",
      "Parameters: {'max_depth': 3, 'n_estimators': 10}\n",
      "\n"
     ]
    }
   ],
   "source": [
    "from sklearn.ensemble import RandomForestClassifier\n",
    "from sklearn.grid_search import GridSearchCV\n",
    "param_grid = {\n",
    "    \"n_estimators\":[2,10,25,50,100],\n",
    "    \"max_depth\":[1,2,3,4,5,10,25,50,None]\n",
    "}\n",
    "\n",
    "clf = RandomForestClassifier()\n",
    "grid_search = GridSearchCV(clf, param_grid=param_grid,verbose=False)\n",
    "grid_search.fit(X, y)\n",
    "report(grid_search.grid_scores_)\n"
   ]
  },
  {
   "cell_type": "code",
   "execution_count": 16,
   "metadata": {
    "collapsed": false
   },
   "outputs": [
    {
     "name": "stdout",
     "output_type": "stream",
     "text": [
      "0.90153643547\n"
     ]
    }
   ],
   "source": [
    "from sklearn.tree import DecisionTreeClassifier\n",
    "from sklearn.cross_validation import KFold\n",
    "\n",
    "n_folds = 10\n",
    "\n",
    "clf = DecisionTreeClassifier(max_depth = 3)\n",
    "kf = KFold(n=X.shape[0],n_folds=n_folds)\n",
    "\n",
    "scores = []\n",
    "for train,test in kf:\n",
    "    X_train = X[train,:]\n",
    "    y_train = y[train]\n",
    "    X_test = X[test,:]\n",
    "    y_test = y[test]\n",
    "    clf.fit(X_train,y_train)\n",
    "    scores.append(clf.score(X_test,y_test))\n",
    "print(np.mean(scores))"
   ]
  },
  {
   "cell_type": "markdown",
   "metadata": {},
   "source": [
    "It looks like the random forest underfits with the feature selection process.\n",
    "\n",
    "It is interesting to note that in both cases fairly small sized trees were found to be ideal. It would be worth a deeper consideration to see if decision functions that are multivariate instead of univariate provide better results."
   ]
  },
  {
   "cell_type": "markdown",
   "metadata": {},
   "source": [
    "Its unclear in this case if we are just supposed to use the tree and not cross validate so here is the same thing not cross-validated"
   ]
  },
  {
   "cell_type": "code",
   "execution_count": 17,
   "metadata": {
    "collapsed": false
   },
   "outputs": [
    {
     "name": "stdout",
     "output_type": "stream",
     "text": [
      "The score with depth=2 (best result for Gradient Boosted Tree) is  0.889716840537\n",
      "The score with depth=3 (best result for Random Forest) is  0.910581222057\n"
     ]
    }
   ],
   "source": [
    "from sklearn.tree import DecisionTreeClassifier\n",
    "\n",
    "clf = DecisionTreeClassifier(max_depth = 2)\n",
    "clf.fit(X,y)\n",
    "score = clf.score(X,y)\n",
    "print(\"The score with depth=2 (best result for Gradient Boosted Tree) is \",score)\n",
    "\n",
    "clf = DecisionTreeClassifier(max_depth = 3)\n",
    "clf.fit(X,y)\n",
    "score = clf.score(X,y)\n",
    "print(\"The score with depth=3 (best result for Random Forest) is \",score)"
   ]
  },
  {
   "cell_type": "markdown",
   "metadata": {},
   "source": [
    "Since both of these out perform their not cross-validate counterparts, it does appear that these trees overfit the data. On the other hand, the tree of depth=2 does not out perform the Gradient Boosted Tree so that is interesting."
   ]
  },
  {
   "cell_type": "markdown",
   "metadata": {},
   "source": [
    "## 25/25\n",
    "\n",
    "## Overall: 75+25=100/75"
   ]
  }
 ],
 "metadata": {
  "kernelspec": {
   "display_name": "Python 3",
   "language": "python",
   "name": "python3"
  },
  "language_info": {
   "codemirror_mode": {
    "name": "ipython",
    "version": 3
   },
   "file_extension": ".py",
   "mimetype": "text/x-python",
   "name": "python",
   "nbconvert_exporter": "python",
   "pygments_lexer": "ipython3",
   "version": "3.5.0"
  }
 },
 "nbformat": 4,
 "nbformat_minor": 0
}
